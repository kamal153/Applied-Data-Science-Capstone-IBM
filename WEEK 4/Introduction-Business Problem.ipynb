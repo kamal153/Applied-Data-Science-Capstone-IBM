{
 "cells": [
  {
   "cell_type": "markdown",
   "metadata": {},
   "source": [
    "# Capstone Project - Dance Studio in Budapest"
   ]
  },
  {
   "cell_type": "markdown",
   "metadata": {},
   "source": [
    "## Business Problem and Background"
   ]
  },
  {
   "cell_type": "markdown",
   "metadata": {},
   "source": [
    "<b>Goal:</b> This project intends to <b>identify the optimal place for a dance studio in Budapest.</b> The topic \"dance\" comes from my brother being a dance teacher, who used to be on the hunt for a place to open his own studio some years back. At that time I was not even close to data science, but moving the situation to present days in theory, I wonder if/how I and data could help him make the close to best decision."
   ]
  },
  {
   "cell_type": "markdown",
   "metadata": {},
   "source": [
    "<b>Target audience:</b> So <b>my stakeholder is my onetime brother</b>, but the results of my analysis could be interesting to anyone having similar plans (to open a dance studio) in the capital of Hungary nowadays. Well, after the current COVID situation is over, as dancing is a very contact-intensive hobby."
   ]
  },
  {
   "cell_type": "markdown",
   "metadata": {},
   "source": [
    "According to my brother's information, the competition has always been \"strong\" in the dancing business. He claims there were and still are many such studios in Budapest compared to the size of the city (population). I am going to try and check if data confirms his statement, and <b>will be searching for areas that have no or just a few dance studios nearby, but which are easily accessible for a number of people without the usage of cars</b>, as parking is almost impossible in Budapest."
   ]
  },
  {
   "cell_type": "markdown",
   "metadata": {},
   "source": [
    "Finding the best spot is not in my intention, as I understand there are many other factors to be taken into account, some of them being less data driven, but I will attempt to locate the top 3 neighborhoods to help narrow down the list of potential areas to consider for a new dance studio."
   ]
  }
 ],
 "metadata": {
  "kernelspec": {
   "display_name": "Python 2",
   "language": "python",
   "name": "python2"
  },
  "language_info": {
   "codemirror_mode": {
    "name": "ipython",
    "version": 2
   },
   "file_extension": ".py",
   "mimetype": "text/x-python",
   "name": "python",
   "nbconvert_exporter": "python",
   "pygments_lexer": "ipython2",
   "version": "2.7.15"
  }
 },
 "nbformat": 4,
 "nbformat_minor": 2
}
