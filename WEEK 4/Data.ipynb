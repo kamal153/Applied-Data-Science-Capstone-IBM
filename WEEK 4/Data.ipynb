{
 "cells": [
  {
   "cell_type": "markdown",
   "metadata": {},
   "source": [
    "# Capstone Project - Dance Studio in Budapest"
   ]
  },
  {
   "cell_type": "markdown",
   "metadata": {},
   "source": [
    "## Data"
   ]
  },
  {
   "cell_type": "markdown",
   "metadata": {},
   "source": [
    "As per the problem setting above, I will focus on the below aspects:\n",
    "\n",
    "What <b>data</b> would be <b>useful/needed?</b>\n",
    "\n",
    "<ol>\n",
    "    <li>The <b>number and location</b> of existing dance studios in Budapest as of today.</li>\n",
    "    <li>The <b>distance</b> of the studios from the centre of the city.</li>\n",
    "    <li>The average <b>ratings</b> the studios received from the users.</li>\n",
    "    <li><b>Crime data</b> of the neighborhoods/districts.</li>\n",
    "    <li><b>Entry fees or hourly rates </b>of the studios.</li>\n",
    "</ol>\n",
    "\n",
    "What data are <b>available?</b>\n",
    "\n",
    "With a bit of probing I found that the Foursquare page has various but limited information about the places, like\n",
    "<ol>\n",
    "    <li>With a bit of probing I found that the Foursquare page has various but limited information about the places, like</li>\n",
    "</ol>\n",
    "<b>\n",
    "location (address, geo coordinates, latitude and longitude),<br>\n",
    "tips,<br>\n",
    "reviews,<br>\n",
    "and ratings.<br>\n",
    "</b>\n",
    "\n",
    "Useful for my purpose from these are the <b>geo ones</b> and the <b>tips, ratings</b> so I will concentrate on retrieving those primarily, via the <b>Foursquare API</b>. The neighborhoods will be the districts in Budapest, with focus on the inner ones.\n",
    "\n",
    "<ol>\n",
    "    <li>Understanding the <b>crime heatmap</b> about the districts would be an asset to find a rather secure location. There can be venues, like night clubs that may to a certain degree magnetize crime to a specific area. Though the open hours of the dance studios (mainly evenings) and that of the night clubs (late night) have no intersection, this would be worth looking into. Unfortunately though, I did not find any available dataset about the criminal records nor on Foursquare neither on any other website, so I put this view aside for the current analysis.</li>\n",
    "    \n",
    " <li>As for the <b>prices</b>, I have no information about the fees and rates for those studios the Foursquare site lists. Hence, I postpone this aspect too for a later study.</li>\n",
    "    \n",
    "</ol>\n",
    "So as above mentioned, the <b>source</b> of the data to be used will be <b>Foursquare</b>. I will first capture the coordinates of Budapest, then <b>pull</b> the list of venues in the city, <b>transform</b> the json file into a dataframe and <b>clean</b> it for the purpose (filter on the dance studios, let go of the unnecessary columns, calculate distance from city centre, iteratively specify a reasonable target distance, etc.) I would be applying the <b>clustering method</b>, so I would concentrate on the pre-processing (like normalization) in that direction.\n",
    "\n",
    "Then I will <b>visualize the clusters with the folium map</b> to have a deeper understanding and insights about the distribution/spread of the studios and the potentially find further aspects to investigate.\n"
   ]
  },
  {
   "cell_type": "code",
   "execution_count": null,
   "metadata": {},
   "outputs": [],
   "source": []
  }
 ],
 "metadata": {
  "kernelspec": {
   "display_name": "Python 2",
   "language": "python",
   "name": "python2"
  },
  "language_info": {
   "codemirror_mode": {
    "name": "ipython",
    "version": 2
   },
   "file_extension": ".py",
   "mimetype": "text/x-python",
   "name": "python",
   "nbconvert_exporter": "python",
   "pygments_lexer": "ipython2",
   "version": "2.7.15"
  }
 },
 "nbformat": 4,
 "nbformat_minor": 2
}
